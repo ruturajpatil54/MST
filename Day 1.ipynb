{
  "nbformat": 4,
  "nbformat_minor": 0,
  "metadata": {
    "colab": {
      "name": "First.ipynb",
      "provenance": [],
      "authorship_tag": "ABX9TyOraBR6qMMOiU2WpMjSNv+P",
      "include_colab_link": true
    },
    "kernelspec": {
      "name": "python3",
      "display_name": "Python 3.8.10 64-bit"
    },
    "language_info": {
      "name": "python",
      "version": "3.8.10"
    },
    "interpreter": {
      "hash": "916dbcbb3f70747c44a77c7bcd40155683ae19c65e1c03b4aa3499c5328201f1"
    }
  },
  "cells": [
    {
      "cell_type": "code",
      "metadata": {
        "colab": {
          "base_uri": "https://localhost:8080/"
        },
        "id": "E1WBj2H21aAl",
        "outputId": "591a090e-2388-4ed6-9d29-1d692e0fdca3"
      },
      "source": [
        "print('Hello World of MustR');"
      ],
      "execution_count": null,
      "outputs": [
        {
          "output_type": "stream",
          "text": [
            "Hello World of MustR\n"
          ],
          "name": "stdout"
        }
      ]
    },
    {
      "cell_type": "code",
      "execution_count": 4,
      "metadata": {},
      "outputs": [
        {
          "output_type": "stream",
          "name": "stdout",
          "text": [
            "Today  is  2021-07-04\nIt's Day#30 since the class started in 2021\n"
          ]
        }
      ],
      "source": [
        "from datetime import *\n",
        "print(f'Today  is ', date.today())\n",
        "delta = date.today() - date(2021, 7, 4)\n",
        "print(f'It\\'s Day#{delta.days} since the class started in 2021')"
      ]
    },
    {
      "cell_type": "code",
      "execution_count": null,
      "metadata": {},
      "outputs": [],
      "source": []
    }
  ]
}